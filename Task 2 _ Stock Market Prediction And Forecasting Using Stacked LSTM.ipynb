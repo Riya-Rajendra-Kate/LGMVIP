{
 "cells": [
  {
   "cell_type": "markdown",
   "id": "36f6caee",
   "metadata": {},
   "source": [
    "# LGMVIP Data Science Internship October 2022 "
   ]
  },
  {
   "cell_type": "markdown",
   "id": "72128984",
   "metadata": {},
   "source": [
    "# Task 2 : Stock Market Prediction And Forecasting Using Stacked LSTM"
   ]
  },
  {
   "cell_type": "markdown",
   "id": "c1789e6a",
   "metadata": {},
   "source": [
    "# Import Libraries "
   ]
  },
  {
   "cell_type": "code",
   "execution_count": 1,
   "id": "78583a91",
   "metadata": {},
   "outputs": [],
   "source": [
    "import numpy as np\n",
    "import pandas as pd \n",
    "import matplotlib.pyplot as plt\n",
    "import seaborn as sns\n",
    "import math\n",
    "from sklearn.metrics import mean_squared_error\n",
    "from sklearn.preprocessing import OneHotEncoder\n",
    "from sklearn.preprocessing import MinMaxScaler\n",
    "import warnings\n",
    "warnings.filterwarnings(\"ignore\")"
   ]
  },
  {
   "cell_type": "code",
   "execution_count": 2,
   "id": "fe852a59",
   "metadata": {},
   "outputs": [],
   "source": [
    "import tensorflow as tf \n",
    "from tensorflow.keras.models import Sequential\n",
    "from tensorflow.keras.layers import Dense\n",
    "from tensorflow.keras.layers import LSTM\n",
    "%matplotlib inline"
   ]
  },
  {
   "cell_type": "markdown",
   "id": "077fd967",
   "metadata": {},
   "source": [
    "#  Import dataset "
   ]
  },
  {
   "cell_type": "code",
   "execution_count": 3,
   "id": "7bacdd1c",
   "metadata": {},
   "outputs": [
    {
     "data": {
      "text/html": [
       "<div>\n",
       "<style scoped>\n",
       "    .dataframe tbody tr th:only-of-type {\n",
       "        vertical-align: middle;\n",
       "    }\n",
       "\n",
       "    .dataframe tbody tr th {\n",
       "        vertical-align: top;\n",
       "    }\n",
       "\n",
       "    .dataframe thead th {\n",
       "        text-align: right;\n",
       "    }\n",
       "</style>\n",
       "<table border=\"1\" class=\"dataframe\">\n",
       "  <thead>\n",
       "    <tr style=\"text-align: right;\">\n",
       "      <th></th>\n",
       "      <th>Date</th>\n",
       "      <th>Open</th>\n",
       "      <th>High</th>\n",
       "      <th>Low</th>\n",
       "      <th>Last</th>\n",
       "      <th>Close</th>\n",
       "      <th>Total Trade Quantity</th>\n",
       "      <th>Turnover (Lacs)</th>\n",
       "    </tr>\n",
       "  </thead>\n",
       "  <tbody>\n",
       "    <tr>\n",
       "      <th>0</th>\n",
       "      <td>2018-09-28</td>\n",
       "      <td>234.05</td>\n",
       "      <td>235.95</td>\n",
       "      <td>230.20</td>\n",
       "      <td>233.50</td>\n",
       "      <td>233.75</td>\n",
       "      <td>3069914</td>\n",
       "      <td>7162.35</td>\n",
       "    </tr>\n",
       "    <tr>\n",
       "      <th>1</th>\n",
       "      <td>2018-09-27</td>\n",
       "      <td>234.55</td>\n",
       "      <td>236.80</td>\n",
       "      <td>231.10</td>\n",
       "      <td>233.80</td>\n",
       "      <td>233.25</td>\n",
       "      <td>5082859</td>\n",
       "      <td>11859.95</td>\n",
       "    </tr>\n",
       "    <tr>\n",
       "      <th>2</th>\n",
       "      <td>2018-09-26</td>\n",
       "      <td>240.00</td>\n",
       "      <td>240.00</td>\n",
       "      <td>232.50</td>\n",
       "      <td>235.00</td>\n",
       "      <td>234.25</td>\n",
       "      <td>2240909</td>\n",
       "      <td>5248.60</td>\n",
       "    </tr>\n",
       "    <tr>\n",
       "      <th>3</th>\n",
       "      <td>2018-09-25</td>\n",
       "      <td>233.30</td>\n",
       "      <td>236.75</td>\n",
       "      <td>232.00</td>\n",
       "      <td>236.25</td>\n",
       "      <td>236.10</td>\n",
       "      <td>2349368</td>\n",
       "      <td>5503.90</td>\n",
       "    </tr>\n",
       "    <tr>\n",
       "      <th>4</th>\n",
       "      <td>2018-09-24</td>\n",
       "      <td>233.55</td>\n",
       "      <td>239.20</td>\n",
       "      <td>230.75</td>\n",
       "      <td>234.00</td>\n",
       "      <td>233.30</td>\n",
       "      <td>3423509</td>\n",
       "      <td>7999.55</td>\n",
       "    </tr>\n",
       "  </tbody>\n",
       "</table>\n",
       "</div>"
      ],
      "text/plain": [
       "         Date    Open    High     Low    Last   Close  Total Trade Quantity  \\\n",
       "0  2018-09-28  234.05  235.95  230.20  233.50  233.75               3069914   \n",
       "1  2018-09-27  234.55  236.80  231.10  233.80  233.25               5082859   \n",
       "2  2018-09-26  240.00  240.00  232.50  235.00  234.25               2240909   \n",
       "3  2018-09-25  233.30  236.75  232.00  236.25  236.10               2349368   \n",
       "4  2018-09-24  233.55  239.20  230.75  234.00  233.30               3423509   \n",
       "\n",
       "   Turnover (Lacs)  \n",
       "0          7162.35  \n",
       "1         11859.95  \n",
       "2          5248.60  \n",
       "3          5503.90  \n",
       "4          7999.55  "
      ]
     },
     "execution_count": 3,
     "metadata": {},
     "output_type": "execute_result"
    }
   ],
   "source": [
    "data = pd.read_csv(\"https://raw.githubusercontent.com/mwitiderrick/stockprice/master/NSE-TATAGLOBAL.csv\")\n",
    "data.head()"
   ]
  },
  {
   "cell_type": "code",
   "execution_count": 4,
   "id": "c76f3c55",
   "metadata": {},
   "outputs": [
    {
     "data": {
      "text/plain": [
       "(2035, 8)"
      ]
     },
     "execution_count": 4,
     "metadata": {},
     "output_type": "execute_result"
    }
   ],
   "source": [
    "data.shape"
   ]
  },
  {
   "cell_type": "code",
   "execution_count": 5,
   "id": "5d0a3e26",
   "metadata": {},
   "outputs": [
    {
     "data": {
      "text/html": [
       "<div>\n",
       "<style scoped>\n",
       "    .dataframe tbody tr th:only-of-type {\n",
       "        vertical-align: middle;\n",
       "    }\n",
       "\n",
       "    .dataframe tbody tr th {\n",
       "        vertical-align: top;\n",
       "    }\n",
       "\n",
       "    .dataframe thead th {\n",
       "        text-align: right;\n",
       "    }\n",
       "</style>\n",
       "<table border=\"1\" class=\"dataframe\">\n",
       "  <thead>\n",
       "    <tr style=\"text-align: right;\">\n",
       "      <th></th>\n",
       "      <th>Open</th>\n",
       "      <th>High</th>\n",
       "      <th>Low</th>\n",
       "      <th>Last</th>\n",
       "      <th>Close</th>\n",
       "      <th>Total Trade Quantity</th>\n",
       "      <th>Turnover (Lacs)</th>\n",
       "    </tr>\n",
       "  </thead>\n",
       "  <tbody>\n",
       "    <tr>\n",
       "      <th>count</th>\n",
       "      <td>2035.000000</td>\n",
       "      <td>2035.000000</td>\n",
       "      <td>2035.000000</td>\n",
       "      <td>2035.000000</td>\n",
       "      <td>2035.00000</td>\n",
       "      <td>2.035000e+03</td>\n",
       "      <td>2035.000000</td>\n",
       "    </tr>\n",
       "    <tr>\n",
       "      <th>mean</th>\n",
       "      <td>149.713735</td>\n",
       "      <td>151.992826</td>\n",
       "      <td>147.293931</td>\n",
       "      <td>149.474251</td>\n",
       "      <td>149.45027</td>\n",
       "      <td>2.335681e+06</td>\n",
       "      <td>3899.980565</td>\n",
       "    </tr>\n",
       "    <tr>\n",
       "      <th>std</th>\n",
       "      <td>48.664509</td>\n",
       "      <td>49.413109</td>\n",
       "      <td>47.931958</td>\n",
       "      <td>48.732570</td>\n",
       "      <td>48.71204</td>\n",
       "      <td>2.091778e+06</td>\n",
       "      <td>4570.767877</td>\n",
       "    </tr>\n",
       "    <tr>\n",
       "      <th>min</th>\n",
       "      <td>81.100000</td>\n",
       "      <td>82.800000</td>\n",
       "      <td>80.000000</td>\n",
       "      <td>81.000000</td>\n",
       "      <td>80.95000</td>\n",
       "      <td>3.961000e+04</td>\n",
       "      <td>37.040000</td>\n",
       "    </tr>\n",
       "    <tr>\n",
       "      <th>25%</th>\n",
       "      <td>120.025000</td>\n",
       "      <td>122.100000</td>\n",
       "      <td>118.300000</td>\n",
       "      <td>120.075000</td>\n",
       "      <td>120.05000</td>\n",
       "      <td>1.146444e+06</td>\n",
       "      <td>1427.460000</td>\n",
       "    </tr>\n",
       "    <tr>\n",
       "      <th>50%</th>\n",
       "      <td>141.500000</td>\n",
       "      <td>143.400000</td>\n",
       "      <td>139.600000</td>\n",
       "      <td>141.100000</td>\n",
       "      <td>141.25000</td>\n",
       "      <td>1.783456e+06</td>\n",
       "      <td>2512.030000</td>\n",
       "    </tr>\n",
       "    <tr>\n",
       "      <th>75%</th>\n",
       "      <td>157.175000</td>\n",
       "      <td>159.400000</td>\n",
       "      <td>155.150000</td>\n",
       "      <td>156.925000</td>\n",
       "      <td>156.90000</td>\n",
       "      <td>2.813594e+06</td>\n",
       "      <td>4539.015000</td>\n",
       "    </tr>\n",
       "    <tr>\n",
       "      <th>max</th>\n",
       "      <td>327.700000</td>\n",
       "      <td>328.750000</td>\n",
       "      <td>321.650000</td>\n",
       "      <td>325.950000</td>\n",
       "      <td>325.75000</td>\n",
       "      <td>2.919102e+07</td>\n",
       "      <td>55755.080000</td>\n",
       "    </tr>\n",
       "  </tbody>\n",
       "</table>\n",
       "</div>"
      ],
      "text/plain": [
       "              Open         High          Low         Last       Close  \\\n",
       "count  2035.000000  2035.000000  2035.000000  2035.000000  2035.00000   \n",
       "mean    149.713735   151.992826   147.293931   149.474251   149.45027   \n",
       "std      48.664509    49.413109    47.931958    48.732570    48.71204   \n",
       "min      81.100000    82.800000    80.000000    81.000000    80.95000   \n",
       "25%     120.025000   122.100000   118.300000   120.075000   120.05000   \n",
       "50%     141.500000   143.400000   139.600000   141.100000   141.25000   \n",
       "75%     157.175000   159.400000   155.150000   156.925000   156.90000   \n",
       "max     327.700000   328.750000   321.650000   325.950000   325.75000   \n",
       "\n",
       "       Total Trade Quantity  Turnover (Lacs)  \n",
       "count          2.035000e+03      2035.000000  \n",
       "mean           2.335681e+06      3899.980565  \n",
       "std            2.091778e+06      4570.767877  \n",
       "min            3.961000e+04        37.040000  \n",
       "25%            1.146444e+06      1427.460000  \n",
       "50%            1.783456e+06      2512.030000  \n",
       "75%            2.813594e+06      4539.015000  \n",
       "max            2.919102e+07     55755.080000  "
      ]
     },
     "execution_count": 5,
     "metadata": {},
     "output_type": "execute_result"
    }
   ],
   "source": [
    "data.describe()"
   ]
  },
  {
   "cell_type": "markdown",
   "id": "ec2bbd43",
   "metadata": {},
   "source": [
    "# Exploratory Data Analysis"
   ]
  },
  {
   "cell_type": "code",
   "execution_count": 6,
   "id": "a0bdbebc",
   "metadata": {},
   "outputs": [
    {
     "data": {
      "text/plain": [
       "Date                    0\n",
       "Open                    0\n",
       "High                    0\n",
       "Low                     0\n",
       "Last                    0\n",
       "Close                   0\n",
       "Total Trade Quantity    0\n",
       "Turnover (Lacs)         0\n",
       "dtype: int64"
      ]
     },
     "execution_count": 6,
     "metadata": {},
     "output_type": "execute_result"
    }
   ],
   "source": [
    "data.isnull().sum()"
   ]
  },
  {
   "cell_type": "code",
   "execution_count": 7,
   "id": "42539a50",
   "metadata": {},
   "outputs": [
    {
     "name": "stdout",
     "output_type": "stream",
     "text": [
      "0       234.05\n",
      "1       234.55\n",
      "2       240.00\n",
      "3       233.30\n",
      "4       233.55\n",
      "         ...  \n",
      "2030    117.60\n",
      "2031    120.10\n",
      "2032    121.80\n",
      "2033    120.30\n",
      "2034    122.10\n",
      "Name: Open, Length: 2035, dtype: float64\n"
     ]
    }
   ],
   "source": [
    "df= data.reset_index()['Open']\n",
    "print(df)"
   ]
  },
  {
   "cell_type": "code",
   "execution_count": 8,
   "id": "20f63130",
   "metadata": {},
   "outputs": [
    {
     "data": {
      "text/plain": [
       "Text(0.5, 1.0, 'Open')"
      ]
     },
     "execution_count": 8,
     "metadata": {},
     "output_type": "execute_result"
    },
    {
     "data": {
      "image/png": "[encoded data removed]",
      "text/plain": [
       "<Figure size 2160x720 with 1 Axes>"
      ]
     },
     "metadata": {
      "needs_background": "light"
     },
     "output_type": "display_data"
    }
   ],
   "source": [
    "plt.subplots(figsize = (30,10))\n",
    "plt.plot(df , color =\"black\")\n",
    "plt.title(\"Open\")"
   ]
  },
  {
   "cell_type": "code",
   "execution_count": 9,
   "id": "93baeb83",
   "metadata": {},
   "outputs": [
    {
     "data": {
      "text/plain": [
       "(2035, 1)"
      ]
     },
     "execution_count": 9,
     "metadata": {},
     "output_type": "execute_result"
    }
   ],
   "source": [
    "scaler = MinMaxScaler(feature_range = (0,1))\n",
    "df = scaler.fit_transform(np.array(df).reshape(-1,1))\n",
    "df.shape"
   ]
  },
  {
   "cell_type": "code",
   "execution_count": 10,
   "id": "37facc43",
   "metadata": {},
   "outputs": [
    {
     "name": "stdout",
     "output_type": "stream",
     "text": [
      "[[0.6202352 ]\n",
      " [0.62226277]\n",
      " [0.64436334]\n",
      " ...\n",
      " [0.16504461]\n",
      " [0.15896188]\n",
      " [0.16626115]]\n"
     ]
    }
   ],
   "source": [
    "print(df)"
   ]
  },
  {
   "cell_type": "markdown",
   "id": "676848af",
   "metadata": {},
   "source": [
    "# Sampling The Data "
   ]
  },
  {
   "cell_type": "code",
   "execution_count": 11,
   "id": "76024f51",
   "metadata": {},
   "outputs": [
    {
     "data": {
      "text/plain": [
       "(1526, 509)"
      ]
     },
     "execution_count": 11,
     "metadata": {},
     "output_type": "execute_result"
    }
   ],
   "source": [
    "training_size = int( len(df) * 0.75)\n",
    "testing_size  = len(df) - training_size\n",
    "train_data , test_data = df[0 : training_size, :], df[training_size : len(df), :1]\n",
    "training_size , testing_size"
   ]
  },
  {
   "cell_type": "code",
   "execution_count": 12,
   "id": "a04567a0",
   "metadata": {},
   "outputs": [
    {
     "data": {
      "text/plain": [
       "(array([[0.6202352 ],\n",
       "        [0.62226277],\n",
       "        [0.64436334],\n",
       "        ...,\n",
       "        [0.18491484],\n",
       "        [0.15774534],\n",
       "        [0.16180049]]),\n",
       " array([[0.15774534],\n",
       "        [0.15774534],\n",
       "        [0.16991079],\n",
       "        [0.13746959],\n",
       "        [0.14963504],\n",
       "        [0.16605839],\n",
       "        [0.15369019],\n",
       "        [0.14152474],\n",
       "        [0.13341444],\n",
       "        [0.13260341],\n",
       "        [0.12368208],\n",
       "        [0.12246553],\n",
       "        [0.13625304],\n",
       "        [0.11719384],\n",
       "        [0.13746959],\n",
       "        [0.15004055],\n",
       "        [0.15308191],\n",
       "        [0.15794809],\n",
       "        [0.15186537],\n",
       "        [0.14557989],\n",
       "        [0.14497161],\n",
       "        [0.14801298],\n",
       "        [0.14476886],\n",
       "        [0.11719384],\n",
       "        [0.11151663],\n",
       "        [0.10563666],\n",
       "        [0.10218978],\n",
       "        [0.09712084],\n",
       "        [0.09691809],\n",
       "        [0.11131387],\n",
       "        [0.10644769],\n",
       "        [0.11111111],\n",
       "        [0.1202352 ],\n",
       "        [0.11922141],\n",
       "        [0.13219789],\n",
       "        [0.10969181],\n",
       "        [0.11232766],\n",
       "        [0.10097324],\n",
       "        [0.09712084],\n",
       "        [0.09326845],\n",
       "        [0.10948905],\n",
       "        [0.10725872],\n",
       "        [0.11719384],\n",
       "        [0.12530414],\n",
       "        [0.10705596],\n",
       "        [0.11516626],\n",
       "        [0.11111111],\n",
       "        [0.10604217],\n",
       "        [0.10786699],\n",
       "        [0.10117599],\n",
       "        [0.10016221],\n",
       "        [0.11293593],\n",
       "        [0.09144363],\n",
       "        [0.08880779],\n",
       "        [0.10908354],\n",
       "        [0.12550689],\n",
       "        [0.1216545 ],\n",
       "        [0.12550689],\n",
       "        [0.14294404],\n",
       "        [0.14882401],\n",
       "        [0.14882401],\n",
       "        [0.15632603],\n",
       "        [0.1459854 ],\n",
       "        [0.15348743],\n",
       "        [0.14152474],\n",
       "        [0.14030819],\n",
       "        [0.14578264],\n",
       "        [0.15227088],\n",
       "        [0.14781022],\n",
       "        [0.17274939],\n",
       "        [0.18207624],\n",
       "        [0.15733982],\n",
       "        [0.15470397],\n",
       "        [0.15186537],\n",
       "        [0.14821573],\n",
       "        [0.16342255],\n",
       "        [0.1540957 ],\n",
       "        [0.13949716],\n",
       "        [0.14760746],\n",
       "        [0.14517437],\n",
       "        [0.15774534],\n",
       "        [0.1431468 ],\n",
       "        [0.12733171],\n",
       "        [0.11131387],\n",
       "        [0.11313869],\n",
       "        [0.12104623],\n",
       "        [0.11739659],\n",
       "        [0.1311841 ],\n",
       "        [0.13746959],\n",
       "        [0.17396594],\n",
       "        [0.13158962],\n",
       "        [0.11313869],\n",
       "        [0.13300892],\n",
       "        [0.14274128],\n",
       "        [0.16180049],\n",
       "        [0.15429846],\n",
       "        [0.14760746],\n",
       "        [0.15369019],\n",
       "        [0.14801298],\n",
       "        [0.13260341],\n",
       "        [0.13807786],\n",
       "        [0.15794809],\n",
       "        [0.16058394],\n",
       "        [0.17497972],\n",
       "        [0.18187348],\n",
       "        [0.16666667],\n",
       "        [0.13240065],\n",
       "        [0.15369019],\n",
       "        [0.16180049],\n",
       "        [0.14557989],\n",
       "        [0.16545012],\n",
       "        [0.15754258],\n",
       "        [0.1636253 ],\n",
       "        [0.15977291],\n",
       "        [0.16382806],\n",
       "        [0.16342255],\n",
       "        [0.15652879],\n",
       "        [0.17011354],\n",
       "        [0.14760746],\n",
       "        [0.12935929],\n",
       "        [0.14233577],\n",
       "        [0.15774534],\n",
       "        [0.11719384],\n",
       "        [0.11800487],\n",
       "        [0.14152474],\n",
       "        [0.08475264],\n",
       "        [0.06853204],\n",
       "        [0.05636659],\n",
       "        [0.05028386],\n",
       "        [0.04480941],\n",
       "        [0.04825629],\n",
       "        [0.05454177],\n",
       "        [0.0553528 ],\n",
       "        [0.06447689],\n",
       "        [0.07643958],\n",
       "        [0.01987024],\n",
       "        [0.05190592],\n",
       "        [0.04805353],\n",
       "        [0.05494728],\n",
       "        [0.04927007],\n",
       "        [0.05231144],\n",
       "        [0.05231144],\n",
       "        [0.04622871],\n",
       "        [0.05636659],\n",
       "        [0.05616383],\n",
       "        [0.04339011],\n",
       "        [0.03994323],\n",
       "        [0.04014599],\n",
       "        [0.02331711],\n",
       "        [0.02798054],\n",
       "        [0.0324412 ],\n",
       "        [0.03183293],\n",
       "        [0.03974047],\n",
       "        [0.01987024],\n",
       "        [0.02392539],\n",
       "        [0.01662612],\n",
       "        [0.02027575],\n",
       "        [0.03527981],\n",
       "        [0.02189781],\n",
       "        [0.0296026 ],\n",
       "        [0.02128954],\n",
       "        [0.03669911],\n",
       "        [0.0310219 ],\n",
       "        [0.03953771],\n",
       "        [0.04014599],\n",
       "        [0.04298459],\n",
       "        [0.03041363],\n",
       "        [0.01804542],\n",
       "        [0.01155718],\n",
       "        [0.01175994],\n",
       "        [0.00466342],\n",
       "        [0.0052717 ],\n",
       "        [0.        ],\n",
       "        [0.00608273],\n",
       "        [0.00405515],\n",
       "        [0.00567721],\n",
       "        [0.00446067],\n",
       "        [0.01175994],\n",
       "        [0.01946472],\n",
       "        [0.02473642],\n",
       "        [0.03284672],\n",
       "        [0.03345499],\n",
       "        [0.04176805],\n",
       "        [0.0405515 ],\n",
       "        [0.04257908],\n",
       "        [0.0405515 ],\n",
       "        [0.04014599],\n",
       "        [0.04318735],\n",
       "        [0.04136253],\n",
       "        [0.03203569],\n",
       "        [0.02392539],\n",
       "        [0.01824818],\n",
       "        [0.01987024],\n",
       "        [0.01784266],\n",
       "        [0.02372263],\n",
       "        [0.03081914],\n",
       "        [0.03609084],\n",
       "        [0.02879157],\n",
       "        [0.02189781],\n",
       "        [0.02919708],\n",
       "        [0.01987024],\n",
       "        [0.02047851],\n",
       "        [0.00851582],\n",
       "        [0.00587997],\n",
       "        [0.00973236],\n",
       "        [0.013382  ],\n",
       "        [0.01784266],\n",
       "        [0.01520681],\n",
       "        [0.02270884],\n",
       "        [0.03264396],\n",
       "        [0.02676399],\n",
       "        [0.02392539],\n",
       "        [0.0148013 ],\n",
       "        [0.04217356],\n",
       "        [0.04257908],\n",
       "        [0.03892944],\n",
       "        [0.03649635],\n",
       "        [0.04906732],\n",
       "        [0.04622871],\n",
       "        [0.04115977],\n",
       "        [0.04379562],\n",
       "        [0.04420114],\n",
       "        [0.05616383],\n",
       "        [0.05515004],\n",
       "        [0.05636659],\n",
       "        [0.0405515 ],\n",
       "        [0.04521492],\n",
       "        [0.05352798],\n",
       "        [0.05636659],\n",
       "        [0.03994323],\n",
       "        [0.04927007],\n",
       "        [0.04379562],\n",
       "        [0.04744526],\n",
       "        [0.04420114],\n",
       "        [0.03122466],\n",
       "        [0.02007299],\n",
       "        [0.06042174],\n",
       "        [0.06893755],\n",
       "        [0.09184915],\n",
       "        [0.09164639],\n",
       "        [0.10077048],\n",
       "        [0.09610706],\n",
       "        [0.08678021],\n",
       "        [0.08880779],\n",
       "        [0.10948905],\n",
       "        [0.1107056 ],\n",
       "        [0.09164639],\n",
       "        [0.09935118],\n",
       "        [0.10989457],\n",
       "        [0.10827251],\n",
       "        [0.1054339 ],\n",
       "        [0.10056772],\n",
       "        [0.10056772],\n",
       "        [0.09083536],\n",
       "        [0.07765612],\n",
       "        [0.08049473],\n",
       "        [0.08880779],\n",
       "        [0.08941606],\n",
       "        [0.08069749],\n",
       "        [0.09042985],\n",
       "        [0.07866991],\n",
       "        [0.08069749],\n",
       "        [0.09691809],\n",
       "        [0.07704785],\n",
       "        [0.09610706],\n",
       "        [0.09266018],\n",
       "        [0.08982157],\n",
       "        [0.09975669],\n",
       "        [0.07177616],\n",
       "        [0.06853204],\n",
       "        [0.04987835],\n",
       "        [0.05109489],\n",
       "        [0.04805353],\n",
       "        [0.04034874],\n",
       "        [0.04217356],\n",
       "        [0.03730738],\n",
       "        [0.05109489],\n",
       "        [0.05433901],\n",
       "        [0.07137064],\n",
       "        [0.0648824 ],\n",
       "        [0.06812652],\n",
       "        [0.07643958],\n",
       "        [0.08008921],\n",
       "        [0.06042174],\n",
       "        [0.06407137],\n",
       "        [0.07177616],\n",
       "        [0.05961071],\n",
       "        [0.05231144],\n",
       "        [0.04541768],\n",
       "        [0.05231144],\n",
       "        [0.04257908],\n",
       "        [0.02798054],\n",
       "        [0.02696675],\n",
       "        [0.03041363],\n",
       "        [0.01885645],\n",
       "        [0.03000811],\n",
       "        [0.04480941],\n",
       "        [0.06103001],\n",
       "        [0.06650446],\n",
       "        [0.06123277],\n",
       "        [0.06427413],\n",
       "        [0.06650446],\n",
       "        [0.06549067],\n",
       "        [0.07319546],\n",
       "        [0.06853204],\n",
       "        [0.07988646],\n",
       "        [0.07887267],\n",
       "        [0.06853204],\n",
       "        [0.06914031],\n",
       "        [0.06812652],\n",
       "        [0.06812652],\n",
       "        [0.07583131],\n",
       "        [0.07684509],\n",
       "        [0.08069749],\n",
       "        [0.08759124],\n",
       "        [0.09610706],\n",
       "        [0.09894566],\n",
       "        [0.08657745],\n",
       "        [0.08860503],\n",
       "        [0.08272506],\n",
       "        [0.08475264],\n",
       "        [0.07866991],\n",
       "        [0.09083536],\n",
       "        [0.09083536],\n",
       "        [0.08373885],\n",
       "        [0.09549878],\n",
       "        [0.11415247],\n",
       "        [0.10644769],\n",
       "        [0.1040146 ],\n",
       "        [0.10421736],\n",
       "        [0.08069749],\n",
       "        [0.06751825],\n",
       "        [0.0663017 ],\n",
       "        [0.06650446],\n",
       "        [0.07055961],\n",
       "        [0.06934307],\n",
       "        [0.07542579],\n",
       "        [0.06853204],\n",
       "        [0.06873479],\n",
       "        [0.06954582],\n",
       "        [0.07137064],\n",
       "        [0.06934307],\n",
       "        [0.06853204],\n",
       "        [0.07258719],\n",
       "        [0.07542579],\n",
       "        [0.08718573],\n",
       "        [0.06082725],\n",
       "        [0.06001622],\n",
       "        [0.0553528 ],\n",
       "        [0.03203569],\n",
       "        [0.03609084],\n",
       "        [0.03730738],\n",
       "        [0.04014599],\n",
       "        [0.03527981],\n",
       "        [0.02798054],\n",
       "        [0.03000811],\n",
       "        [0.05879968],\n",
       "        [0.06326034],\n",
       "        [0.06042174],\n",
       "        [0.05798865],\n",
       "        [0.08272506],\n",
       "        [0.05961071],\n",
       "        [0.05981346],\n",
       "        [0.05778589],\n",
       "        [0.04602595],\n",
       "        [0.0310219 ],\n",
       "        [0.02879157],\n",
       "        [0.04825629],\n",
       "        [0.06042174],\n",
       "        [0.06731549],\n",
       "        [0.06244931],\n",
       "        [0.06650446],\n",
       "        [0.07177616],\n",
       "        [0.08069749],\n",
       "        [0.07319546],\n",
       "        [0.10097324],\n",
       "        [0.10178427],\n",
       "        [0.10502839],\n",
       "        [0.09529603],\n",
       "        [0.10097324],\n",
       "        [0.0973236 ],\n",
       "        [0.09712084],\n",
       "        [0.10016221],\n",
       "        [0.09813463],\n",
       "        [0.0973236 ],\n",
       "        [0.09205191],\n",
       "        [0.08759124],\n",
       "        [0.09509327],\n",
       "        [0.11192214],\n",
       "        [0.12570965],\n",
       "        [0.12895377],\n",
       "        [0.13037307],\n",
       "        [0.12489862],\n",
       "        [0.11313869],\n",
       "        [0.11111111],\n",
       "        [0.11922141],\n",
       "        [0.11901865],\n",
       "        [0.12043796],\n",
       "        [0.12935929],\n",
       "        [0.12854826],\n",
       "        [0.13341444],\n",
       "        [0.14476886],\n",
       "        [0.14537713],\n",
       "        [0.13746959],\n",
       "        [0.13665856],\n",
       "        [0.13665856],\n",
       "        [0.1311841 ],\n",
       "        [0.13341444],\n",
       "        [0.12327656],\n",
       "        [0.14111922],\n",
       "        [0.13746959],\n",
       "        [0.13990268],\n",
       "        [0.13017032],\n",
       "        [0.14152474],\n",
       "        [0.14111922],\n",
       "        [0.13138686],\n",
       "        [0.12915653],\n",
       "        [0.13098135],\n",
       "        [0.1269262 ],\n",
       "        [0.15166261],\n",
       "        [0.15004055],\n",
       "        [0.14193025],\n",
       "        [0.16017843],\n",
       "        [0.15693431],\n",
       "        [0.16504461],\n",
       "        [0.1770073 ],\n",
       "        [0.18146796],\n",
       "        [0.18815896],\n",
       "        [0.20924574],\n",
       "        [0.19424169],\n",
       "        [0.18106245],\n",
       "        [0.18207624],\n",
       "        [0.1960665 ],\n",
       "        [0.17680454],\n",
       "        [0.18207624],\n",
       "        [0.18004866],\n",
       "        [0.18207624],\n",
       "        [0.18876723],\n",
       "        [0.19383617],\n",
       "        [0.19099757],\n",
       "        [0.19505272],\n",
       "        [0.19809408],\n",
       "        [0.20640714],\n",
       "        [0.19748581],\n",
       "        [0.19525547],\n",
       "        [0.20437956],\n",
       "        [0.19870235],\n",
       "        [0.21796431],\n",
       "        [0.21553122],\n",
       "        [0.20600162],\n",
       "        [0.21654501],\n",
       "        [0.21654501],\n",
       "        [0.2175588 ],\n",
       "        [0.19870235],\n",
       "        [0.19018654],\n",
       "        [0.17802109],\n",
       "        [0.175588  ],\n",
       "        [0.16301703],\n",
       "        [0.16707218],\n",
       "        [0.17112733],\n",
       "        [0.17639903],\n",
       "        [0.18349554],\n",
       "        [0.1717356 ],\n",
       "        [0.16423358],\n",
       "        [0.16991079],\n",
       "        [0.17619627],\n",
       "        [0.16788321],\n",
       "        [0.16909976],\n",
       "        [0.17396594],\n",
       "        [0.17741281],\n",
       "        [0.18268451],\n",
       "        [0.19221411],\n",
       "        [0.18896999],\n",
       "        [0.19018654],\n",
       "        [0.17396594],\n",
       "        [0.17092457],\n",
       "        [0.16788321],\n",
       "        [0.17477697],\n",
       "        [0.16443633],\n",
       "        [0.14557989],\n",
       "        [0.15287916],\n",
       "        [0.15369019],\n",
       "        [0.15044607],\n",
       "        [0.14152474],\n",
       "        [0.15145985],\n",
       "        [0.13341444],\n",
       "        [0.12530414],\n",
       "        [0.11719384],\n",
       "        [0.11780211],\n",
       "        [0.12489862],\n",
       "        [0.14132198],\n",
       "        [0.13098135],\n",
       "        [0.12935929],\n",
       "        [0.13240065],\n",
       "        [0.12895377],\n",
       "        [0.12530414],\n",
       "        [0.13381995],\n",
       "        [0.14557989],\n",
       "        [0.15166261],\n",
       "        [0.15085158],\n",
       "        [0.14679643],\n",
       "        [0.14355231],\n",
       "        [0.12733171],\n",
       "        [0.14963504],\n",
       "        [0.14801298],\n",
       "        [0.15815085],\n",
       "        [0.16504461],\n",
       "        [0.15896188],\n",
       "        [0.16626115]]))"
      ]
     },
     "execution_count": 12,
     "metadata": {},
     "output_type": "execute_result"
    }
   ],
   "source": [
    "train_data , test_data"
   ]
  },
  {
   "cell_type": "code",
   "execution_count": 13,
   "id": "b37fcd24",
   "metadata": {},
   "outputs": [],
   "source": [
    "#convert array of values into dataset\n",
    "def create_dataset(dataset, time_step=1):\n",
    "    train_X, train_Y = [], []\n",
    "    for i in range(len(dataset)-time_step-1):\n",
    "        a = dataset[i:(i+time_step), 0]\n",
    "        train_X.append(a)\n",
    "        train_Y.append(dataset[i + time_step, 0])\n",
    "    return np.array(train_X), np.array(train_Y)"
   ]
  },
  {
   "cell_type": "code",
   "execution_count": 14,
   "id": "5ca7bd2d",
   "metadata": {},
   "outputs": [],
   "source": [
    "time_step = 100\n",
    "x_train, y_train = create_dataset(train_data, time_step)\n",
    "x_test, y_test = create_dataset(test_data, time_step)"
   ]
  },
  {
   "cell_type": "code",
   "execution_count": 15,
   "id": "be02a1da",
   "metadata": {},
   "outputs": [],
   "source": [
    "#Reshape the input to be [samples, time steps, features] which is the requirement of LSTM"
   ]
  },
  {
   "cell_type": "code",
   "execution_count": 16,
   "id": "bc87c2cd",
   "metadata": {},
   "outputs": [],
   "source": [
    "x_train = x_train.reshape(x_train.shape[0], x_train.shape[1], 1)\n",
    "x_test = x_test.reshape(x_test.shape[0], x_test.shape[1], 1)"
   ]
  },
  {
   "cell_type": "code",
   "execution_count": 17,
   "id": "aa589e8c",
   "metadata": {},
   "outputs": [
    {
     "name": "stdout",
     "output_type": "stream",
     "text": [
      "(1425, 100, 1)\n",
      "(1425,)\n"
     ]
    },
    {
     "data": {
      "text/plain": [
       "(None, None)"
      ]
     },
     "execution_count": 17,
     "metadata": {},
     "output_type": "execute_result"
    }
   ],
   "source": [
    "print(x_train.shape), print(y_train.shape)"
   ]
  },
  {
   "cell_type": "markdown",
   "id": "1a90a817",
   "metadata": {},
   "source": [
    "# Fit The LSTM Model "
   ]
  },
  {
   "cell_type": "code",
   "execution_count": 18,
   "id": "902b280a",
   "metadata": {},
   "outputs": [],
   "source": [
    "model = Sequential()\n",
    "model.add(LSTM(50, return_sequences = True, input_shape = (100,1)))\n",
    "model.add(LSTM(50, return_sequences = True))\n",
    "model.add(LSTM(50))\n",
    "model.add(Dense(1))\n",
    "model.compile(loss = 'mean_squared_error', optimizer = 'adam')"
   ]
  },
  {
   "cell_type": "code",
   "execution_count": 19,
   "id": "9d42611f",
   "metadata": {},
   "outputs": [
    {
     "name": "stdout",
     "output_type": "stream",
     "text": [
      "Model: \"sequential\"\n",
      "_________________________________________________________________\n",
      " Layer (type)                Output Shape              Param #   \n",
      "=================================================================\n",
      " lstm (LSTM)                 (None, 100, 50)           10400     \n",
      "                                                                 \n",
      " lstm_1 (LSTM)               (None, 100, 50)           20200     \n",
      "                                                                 \n",
      " lstm_2 (LSTM)               (None, 50)                20200     \n",
      "                                                                 \n",
      " dense (Dense)               (None, 1)                 51        \n",
      "                                                                 \n",
      "=================================================================\n",
      "Total params: 50,851\n",
      "Trainable params: 50,851\n",
      "Non-trainable params: 0\n",
      "_________________________________________________________________\n"
     ]
    }
   ],
   "source": [
    "model.summary()"
   ]
  },
  {
   "cell_type": "code",
   "execution_count": 20,
   "id": "832e143b",
   "metadata": {},
   "outputs": [
    {
     "name": "stdout",
     "output_type": "stream",
     "text": [
      "Epoch 1/100\n",
      "23/23 [==============================] - 9s 191ms/step - loss: 0.0217 - val_loss: 0.0081\n",
      "Epoch 2/100\n",
      "23/23 [==============================] - 3s 134ms/step - loss: 0.0033 - val_loss: 7.7313e-04\n",
      "Epoch 3/100\n",
      "23/23 [==============================] - 3s 130ms/step - loss: 0.0017 - val_loss: 0.0016\n",
      "Epoch 4/100\n",
      "23/23 [==============================] - 3s 135ms/step - loss: 0.0017 - val_loss: 0.0014\n",
      "Epoch 5/100\n",
      "23/23 [==============================] - 3s 141ms/step - loss: 0.0015 - val_loss: 0.0016\n",
      "Epoch 6/100\n",
      "23/23 [==============================] - 3s 135ms/step - loss: 0.0013 - val_loss: 0.0015\n",
      "Epoch 7/100\n",
      "23/23 [==============================] - 3s 137ms/step - loss: 0.0012 - val_loss: 0.0012\n",
      "Epoch 8/100\n",
      "23/23 [==============================] - 3s 133ms/step - loss: 0.0011 - val_loss: 0.0013\n",
      "Epoch 9/100\n",
      "23/23 [==============================] - 3s 132ms/step - loss: 0.0011 - val_loss: 0.0012\n",
      "Epoch 10/100\n",
      "23/23 [==============================] - 3s 153ms/step - loss: 0.0010 - val_loss: 7.4038e-04\n",
      "Epoch 11/100\n",
      "23/23 [==============================] - 4s 161ms/step - loss: 0.0011 - val_loss: 0.0011\n",
      "Epoch 12/100\n",
      "23/23 [==============================] - 4s 161ms/step - loss: 9.9124e-04 - val_loss: 7.9993e-04\n",
      "Epoch 13/100\n",
      "23/23 [==============================] - 4s 161ms/step - loss: 8.8515e-04 - val_loss: 7.9361e-04\n",
      "Epoch 14/100\n",
      "23/23 [==============================] - 4s 158ms/step - loss: 8.5570e-04 - val_loss: 6.7160e-04\n",
      "Epoch 15/100\n",
      "23/23 [==============================] - 4s 154ms/step - loss: 8.3980e-04 - val_loss: 7.8808e-04\n",
      "Epoch 16/100\n",
      "23/23 [==============================] - 4s 156ms/step - loss: 8.1188e-04 - val_loss: 7.8588e-04\n",
      "Epoch 17/100\n",
      "23/23 [==============================] - 4s 160ms/step - loss: 8.2625e-04 - val_loss: 6.9445e-04\n",
      "Epoch 18/100\n",
      "23/23 [==============================] - 4s 155ms/step - loss: 7.7684e-04 - val_loss: 7.7832e-04\n",
      "Epoch 19/100\n",
      "23/23 [==============================] - 3s 152ms/step - loss: 7.5730e-04 - val_loss: 7.6686e-04\n",
      "Epoch 20/100\n",
      "23/23 [==============================] - 4s 167ms/step - loss: 9.2339e-04 - val_loss: 7.0729e-04\n",
      "Epoch 21/100\n",
      "23/23 [==============================] - 4s 156ms/step - loss: 8.4082e-04 - val_loss: 8.9943e-04\n",
      "Epoch 22/100\n",
      "23/23 [==============================] - 3s 150ms/step - loss: 7.2749e-04 - val_loss: 6.3859e-04\n",
      "Epoch 23/100\n",
      "23/23 [==============================] - 4s 155ms/step - loss: 7.0465e-04 - val_loss: 9.0592e-04\n",
      "Epoch 24/100\n",
      "23/23 [==============================] - 4s 155ms/step - loss: 6.8903e-04 - val_loss: 5.8951e-04\n",
      "Epoch 25/100\n",
      "23/23 [==============================] - 4s 169ms/step - loss: 6.5799e-04 - val_loss: 6.4368e-04\n",
      "Epoch 26/100\n",
      "23/23 [==============================] - 4s 159ms/step - loss: 6.9119e-04 - val_loss: 5.3934e-04\n",
      "Epoch 27/100\n",
      "23/23 [==============================] - 4s 166ms/step - loss: 8.0109e-04 - val_loss: 8.2436e-04\n",
      "Epoch 28/100\n",
      "23/23 [==============================] - 4s 157ms/step - loss: 6.6161e-04 - val_loss: 7.0440e-04\n",
      "Epoch 29/100\n",
      "23/23 [==============================] - 4s 157ms/step - loss: 6.0429e-04 - val_loss: 6.1324e-04\n",
      "Epoch 30/100\n",
      "23/23 [==============================] - 4s 160ms/step - loss: 6.2701e-04 - val_loss: 5.9257e-04\n",
      "Epoch 31/100\n",
      "23/23 [==============================] - 4s 186ms/step - loss: 6.0417e-04 - val_loss: 6.1603e-04\n",
      "Epoch 32/100\n",
      "23/23 [==============================] - 3s 148ms/step - loss: 5.6822e-04 - val_loss: 6.6442e-04\n",
      "Epoch 33/100\n",
      "23/23 [==============================] - 3s 153ms/step - loss: 5.4927e-04 - val_loss: 6.2699e-04\n",
      "Epoch 34/100\n",
      "23/23 [==============================] - 4s 162ms/step - loss: 6.1840e-04 - val_loss: 4.2200e-04\n",
      "Epoch 35/100\n",
      "23/23 [==============================] - 4s 163ms/step - loss: 6.0163e-04 - val_loss: 5.2321e-04\n",
      "Epoch 36/100\n",
      "23/23 [==============================] - 4s 168ms/step - loss: 5.4208e-04 - val_loss: 4.5354e-04\n",
      "Epoch 37/100\n",
      "23/23 [==============================] - 4s 155ms/step - loss: 5.1304e-04 - val_loss: 5.5162e-04\n",
      "Epoch 38/100\n",
      "23/23 [==============================] - 4s 158ms/step - loss: 5.3497e-04 - val_loss: 6.5894e-04\n",
      "Epoch 39/100\n",
      "23/23 [==============================] - 4s 158ms/step - loss: 6.0121e-04 - val_loss: 4.4029e-04\n",
      "Epoch 40/100\n",
      "23/23 [==============================] - 4s 159ms/step - loss: 5.7590e-04 - val_loss: 4.2179e-04\n",
      "Epoch 41/100\n",
      "23/23 [==============================] - 4s 159ms/step - loss: 5.9045e-04 - val_loss: 4.3887e-04\n",
      "Epoch 42/100\n",
      "23/23 [==============================] - 4s 158ms/step - loss: 5.0554e-04 - val_loss: 3.4962e-04\n",
      "Epoch 43/100\n",
      "23/23 [==============================] - 4s 157ms/step - loss: 4.4977e-04 - val_loss: 3.9791e-04\n",
      "Epoch 44/100\n",
      "23/23 [==============================] - 3s 153ms/step - loss: 4.8689e-04 - val_loss: 3.9708e-04\n",
      "Epoch 45/100\n",
      "23/23 [==============================] - 4s 158ms/step - loss: 4.7443e-04 - val_loss: 3.7623e-04\n",
      "Epoch 46/100\n",
      "23/23 [==============================] - 4s 159ms/step - loss: 4.6411e-04 - val_loss: 3.8282e-04\n",
      "Epoch 47/100\n",
      "23/23 [==============================] - 4s 163ms/step - loss: 3.9554e-04 - val_loss: 4.1138e-04\n",
      "Epoch 48/100\n",
      "23/23 [==============================] - 4s 156ms/step - loss: 4.2686e-04 - val_loss: 3.4856e-04\n",
      "Epoch 49/100\n",
      "23/23 [==============================] - 4s 162ms/step - loss: 4.0771e-04 - val_loss: 4.6114e-04\n",
      "Epoch 50/100\n",
      "23/23 [==============================] - 4s 174ms/step - loss: 3.7267e-04 - val_loss: 3.9309e-04\n",
      "Epoch 51/100\n",
      "23/23 [==============================] - 4s 160ms/step - loss: 3.6869e-04 - val_loss: 3.4414e-04\n",
      "Epoch 52/100\n",
      "23/23 [==============================] - 4s 155ms/step - loss: 3.4354e-04 - val_loss: 2.7942e-04\n",
      "Epoch 53/100\n",
      "23/23 [==============================] - 4s 170ms/step - loss: 3.8751e-04 - val_loss: 4.1380e-04\n",
      "Epoch 54/100\n",
      "23/23 [==============================] - 4s 160ms/step - loss: 3.2895e-04 - val_loss: 4.1756e-04\n",
      "Epoch 55/100\n",
      "23/23 [==============================] - 4s 155ms/step - loss: 3.6236e-04 - val_loss: 3.0844e-04\n",
      "Epoch 56/100\n",
      "23/23 [==============================] - 4s 165ms/step - loss: 3.5140e-04 - val_loss: 3.0904e-04\n",
      "Epoch 57/100\n",
      "23/23 [==============================] - 4s 177ms/step - loss: 3.2705e-04 - val_loss: 3.5853e-04\n",
      "Epoch 58/100\n",
      "23/23 [==============================] - 4s 174ms/step - loss: 3.3392e-04 - val_loss: 2.7066e-04\n",
      "Epoch 59/100\n",
      "23/23 [==============================] - 4s 161ms/step - loss: 3.3185e-04 - val_loss: 4.1003e-04\n",
      "Epoch 60/100\n",
      "23/23 [==============================] - 4s 155ms/step - loss: 3.6437e-04 - val_loss: 2.8753e-04\n",
      "Epoch 61/100\n",
      "23/23 [==============================] - 4s 172ms/step - loss: 3.0710e-04 - val_loss: 3.2989e-04\n",
      "Epoch 62/100\n",
      "23/23 [==============================] - 4s 172ms/step - loss: 3.3415e-04 - val_loss: 2.5654e-04\n",
      "Epoch 63/100\n",
      "23/23 [==============================] - 4s 162ms/step - loss: 2.9604e-04 - val_loss: 2.3368e-04\n",
      "Epoch 64/100\n",
      "23/23 [==============================] - 4s 159ms/step - loss: 3.3408e-04 - val_loss: 3.6028e-04\n",
      "Epoch 65/100\n",
      "23/23 [==============================] - 4s 161ms/step - loss: 3.2944e-04 - val_loss: 2.7549e-04\n",
      "Epoch 66/100\n",
      "23/23 [==============================] - 4s 167ms/step - loss: 2.7915e-04 - val_loss: 2.7856e-04\n",
      "Epoch 67/100\n",
      "23/23 [==============================] - 4s 161ms/step - loss: 2.9776e-04 - val_loss: 2.7435e-04\n",
      "Epoch 68/100\n",
      "23/23 [==============================] - 4s 160ms/step - loss: 2.9968e-04 - val_loss: 3.9584e-04\n",
      "Epoch 69/100\n",
      "23/23 [==============================] - 4s 162ms/step - loss: 3.1315e-04 - val_loss: 3.9536e-04\n",
      "Epoch 70/100\n",
      "23/23 [==============================] - 4s 162ms/step - loss: 3.7795e-04 - val_loss: 2.2894e-04\n",
      "Epoch 71/100\n",
      "23/23 [==============================] - 4s 157ms/step - loss: 3.0193e-04 - val_loss: 2.1109e-04\n",
      "Epoch 72/100\n",
      "23/23 [==============================] - 4s 172ms/step - loss: 3.1797e-04 - val_loss: 2.4543e-04\n",
      "Epoch 73/100\n",
      "23/23 [==============================] - 4s 172ms/step - loss: 2.6787e-04 - val_loss: 3.7501e-04\n",
      "Epoch 74/100\n",
      "23/23 [==============================] - 4s 164ms/step - loss: 3.3168e-04 - val_loss: 2.2190e-04\n",
      "Epoch 75/100\n",
      "23/23 [==============================] - 4s 157ms/step - loss: 2.6361e-04 - val_loss: 2.3878e-04\n",
      "Epoch 76/100\n",
      "23/23 [==============================] - 4s 159ms/step - loss: 3.1083e-04 - val_loss: 2.3485e-04\n",
      "Epoch 77/100\n",
      "23/23 [==============================] - 4s 160ms/step - loss: 2.9761e-04 - val_loss: 2.5776e-04\n",
      "Epoch 78/100\n",
      "23/23 [==============================] - 4s 178ms/step - loss: 2.6507e-04 - val_loss: 2.8160e-04\n",
      "Epoch 79/100\n",
      "23/23 [==============================] - 3s 149ms/step - loss: 2.5567e-04 - val_loss: 2.7289e-04\n",
      "Epoch 80/100\n",
      "23/23 [==============================] - 4s 171ms/step - loss: 2.6085e-04 - val_loss: 2.1981e-04\n",
      "Epoch 81/100\n",
      "23/23 [==============================] - 4s 159ms/step - loss: 2.7337e-04 - val_loss: 2.7906e-04\n",
      "Epoch 82/100\n",
      "23/23 [==============================] - 4s 170ms/step - loss: 3.7597e-04 - val_loss: 2.1826e-04\n",
      "Epoch 83/100\n",
      "23/23 [==============================] - 4s 160ms/step - loss: 3.4033e-04 - val_loss: 2.5737e-04\n",
      "Epoch 84/100\n",
      "23/23 [==============================] - 4s 159ms/step - loss: 2.5814e-04 - val_loss: 2.4012e-04\n",
      "Epoch 85/100\n",
      "23/23 [==============================] - 4s 169ms/step - loss: 2.5773e-04 - val_loss: 2.6446e-04\n",
      "Epoch 86/100\n",
      "23/23 [==============================] - 4s 161ms/step - loss: 2.4318e-04 - val_loss: 2.6461e-04\n",
      "Epoch 87/100\n",
      "23/23 [==============================] - 4s 157ms/step - loss: 2.5362e-04 - val_loss: 2.2520e-04\n",
      "Epoch 88/100\n",
      "23/23 [==============================] - 4s 160ms/step - loss: 2.3606e-04 - val_loss: 2.0175e-04\n",
      "Epoch 89/100\n",
      "23/23 [==============================] - 4s 176ms/step - loss: 2.4736e-04 - val_loss: 2.7635e-04\n",
      "Epoch 90/100\n",
      "23/23 [==============================] - 4s 166ms/step - loss: 2.8106e-04 - val_loss: 1.8070e-04\n",
      "Epoch 91/100\n",
      "23/23 [==============================] - 4s 156ms/step - loss: 3.1597e-04 - val_loss: 3.1218e-04\n",
      "Epoch 92/100\n",
      "23/23 [==============================] - 4s 159ms/step - loss: 2.8233e-04 - val_loss: 1.8128e-04\n",
      "Epoch 93/100\n",
      "23/23 [==============================] - 4s 170ms/step - loss: 2.6425e-04 - val_loss: 2.3151e-04\n",
      "Epoch 94/100\n",
      "23/23 [==============================] - 4s 162ms/step - loss: 2.5348e-04 - val_loss: 2.1909e-04\n",
      "Epoch 95/100\n",
      "23/23 [==============================] - 4s 159ms/step - loss: 2.2945e-04 - val_loss: 1.8382e-04\n",
      "Epoch 96/100\n",
      "23/23 [==============================] - 4s 173ms/step - loss: 3.0800e-04 - val_loss: 2.6680e-04\n",
      "Epoch 97/100\n",
      "23/23 [==============================] - 4s 171ms/step - loss: 2.4636e-04 - val_loss: 1.7544e-04\n",
      "Epoch 98/100\n",
      "23/23 [==============================] - 4s 175ms/step - loss: 2.3235e-04 - val_loss: 1.8104e-04\n",
      "Epoch 99/100\n",
      "23/23 [==============================] - 4s 163ms/step - loss: 2.4720e-04 - val_loss: 1.8510e-04\n",
      "Epoch 100/100\n",
      "23/23 [==============================] - 4s 171ms/step - loss: 2.3787e-04 - val_loss: 2.1147e-04\n"
     ]
    },
    {
     "data": {
      "text/plain": [
       "<keras.callbacks.History at 0x1750a1890a0>"
      ]
     },
     "execution_count": 20,
     "metadata": {},
     "output_type": "execute_result"
    }
   ],
   "source": [
    "model.fit(x_train, y_train, validation_data = (x_test, y_test), epochs = 100, batch_size = 64, verbose = 1)\n"
   ]
  },
  {
   "cell_type": "code",
   "execution_count": 21,
   "id": "6eeae3ef",
   "metadata": {},
   "outputs": [
    {
     "name": "stdout",
     "output_type": "stream",
     "text": [
      "45/45 [==============================] - 3s 29ms/step\n",
      "13/13 [==============================] - 0s 28ms/step\n"
     ]
    }
   ],
   "source": [
    "#Lets predict and check performance metrics\n",
    "\n",
    "train_predict = model.predict(x_train)\n",
    "test_predict = model.predict(x_test)"
   ]
  },
  {
   "cell_type": "code",
   "execution_count": 22,
   "id": "9f39f3ec",
   "metadata": {},
   "outputs": [
    {
     "name": "stdout",
     "output_type": "stream",
     "text": [
      "RMSE performance matrics :  164.035318611077\n"
     ]
    }
   ],
   "source": [
    "train_predict = scaler.inverse_transform(train_predict)\n",
    "test_predict = scaler.inverse_transform(test_predict)\n",
    "\n",
    "print('RMSE performance matrics : ',math.sqrt(mean_squared_error(y_train, train_predict)) )"
   ]
  },
  {
   "cell_type": "code",
   "execution_count": 23,
   "id": "fd6b40cc",
   "metadata": {},
   "outputs": [
    {
     "name": "stdout",
     "output_type": "stream",
     "text": [
      "Test data RMSE :  106.35279445452191\n"
     ]
    }
   ],
   "source": [
    "print(\"Test data RMSE : \",math.sqrt(mean_squared_error(y_test , test_predict)) )"
   ]
  },
  {
   "cell_type": "code",
   "execution_count": 24,
   "id": "dafb5785",
   "metadata": {},
   "outputs": [],
   "source": [
    "#Shift train prediction for plotting\n",
    "\n",
    "look_back = 100\n",
    "trainPredictPlot = np.empty_like(df)\n",
    "trainPredictPlot[:,:] = np.nan\n",
    "trainPredictPlot[look_back:len(train_predict) + look_back, :] = train_predict\n",
    "\n",
    "#Shift test prediction for plotting\n",
    "\n",
    "testPredictPlot = np.empty_like(df)\n",
    "testPredictPlot[:,:] = np.nan\n",
    "testPredictPlot[len(train_predict) + (look_back * 2)+1:len(df) - 1, :] = test_predict"
   ]
  },
  {
   "cell_type": "code",
   "execution_count": 25,
   "id": "076edd0d",
   "metadata": {},
   "outputs": [],
   "source": [
    "#Plot baseline"
   ]
  },
  {
   "cell_type": "code",
   "execution_count": 26,
   "id": "42deb6e8",
   "metadata": {},
   "outputs": [
    {
     "data": {
      "image/png": "[encoded data removed]",
      "text/plain": [
       "<Figure size 1440x360 with 1 Axes>"
      ]
     },
     "metadata": {
      "needs_background": "light"
     },
     "output_type": "display_data"
    }
   ],
   "source": [
    "plt.subplots(figsize=(20,5))\n",
    "plt.plot(scaler.inverse_transform(df), color= 'black')\n",
    "plt.show()"
   ]
  },
  {
   "cell_type": "code",
   "execution_count": 27,
   "id": "ff854ff7",
   "metadata": {},
   "outputs": [],
   "source": [
    "#Training Prediction and Testing Prediction"
   ]
  },
  {
   "cell_type": "code",
   "execution_count": 28,
   "id": "49a143aa",
   "metadata": {},
   "outputs": [
    {
     "data": {
      "image/png": "[encoded data removed]",
      "text/plain": [
       "<Figure size 1440x360 with 1 Axes>"
      ]
     },
     "metadata": {
      "needs_background": "light"
     },
     "output_type": "display_data"
    }
   ],
   "source": [
    "plt.subplots(figsize=(20,5))\n",
    "plt.plot(trainPredictPlot,color='red')\n",
    "plt.plot(testPredictPlot,color='blue')\n",
    "plt.show()"
   ]
  },
  {
   "cell_type": "code",
   "execution_count": 29,
   "id": "31b8eaac",
   "metadata": {},
   "outputs": [],
   "source": [
    "#Baseline and train, test prediction"
   ]
  },
  {
   "cell_type": "code",
   "execution_count": 30,
   "id": "f8440183",
   "metadata": {},
   "outputs": [
    {
     "data": {
      "image/png": "[encoded data removed]",
      "text/plain": [
       "<Figure size 1440x720 with 1 Axes>"
      ]
     },
     "metadata": {
      "needs_background": "light"
     },
     "output_type": "display_data"
    }
   ],
   "source": [
    "plt.subplots(figsize=(20,10))\n",
    "plt.plot(scaler.inverse_transform(df), color= 'black')\n",
    "plt.plot(trainPredictPlot,color='red')\n",
    "plt.plot(testPredictPlot,color='blue')\n",
    "plt.show()"
   ]
  },
  {
   "cell_type": "code",
   "execution_count": 31,
   "id": "39429fdf",
   "metadata": {},
   "outputs": [
    {
     "name": "stdout",
     "output_type": "stream",
     "text": [
      "Length of test data :  509\n"
     ]
    }
   ],
   "source": [
    "print(\"Length of test data : \", len(test_data))"
   ]
  },
  {
   "cell_type": "code",
   "execution_count": 32,
   "id": "61badf6f",
   "metadata": {},
   "outputs": [
    {
     "data": {
      "text/plain": [
       "(509, 1)"
      ]
     },
     "execution_count": 32,
     "metadata": {},
     "output_type": "execute_result"
    }
   ],
   "source": [
    "test_data.shape"
   ]
  },
  {
   "cell_type": "code",
   "execution_count": 33,
   "id": "e0d66edc",
   "metadata": {},
   "outputs": [],
   "source": [
    "#now taking previous 100 days data from test data prediction of future data "
   ]
  },
  {
   "cell_type": "code",
   "execution_count": 34,
   "id": "3a4eb580",
   "metadata": {},
   "outputs": [
    {
     "data": {
      "text/plain": [
       "(1, 100)"
      ]
     },
     "execution_count": 34,
     "metadata": {},
     "output_type": "execute_result"
    }
   ],
   "source": [
    "x_ip = test_data[409:].reshape(1,-1)\n",
    "x_ip.shape"
   ]
  },
  {
   "cell_type": "code",
   "execution_count": 35,
   "id": "47fc9ab8",
   "metadata": {},
   "outputs": [],
   "source": [
    "temp_ip = list(x_ip)\n",
    "temp_ip = temp_ip[0].tolist()"
   ]
  },
  {
   "cell_type": "code",
   "execution_count": 36,
   "id": "3eba92df",
   "metadata": {},
   "outputs": [
    {
     "name": "stdout",
     "output_type": "stream",
     "text": [
      "[0.16737176]\n",
      "101\n",
      "Day 1 input [0.13746959 0.13990268 0.13017032 0.14152474 0.14111922 0.13138686\n",
      " 0.12915653 0.13098135 0.1269262  0.15166261 0.15004055 0.14193025\n",
      " 0.16017843 0.15693431 0.16504461 0.1770073  0.18146796 0.18815896\n",
      " 0.20924574 0.19424169 0.18106245 0.18207624 0.1960665  0.17680454\n",
      " 0.18207624 0.18004866 0.18207624 0.18876723 0.19383617 0.19099757\n",
      " 0.19505272 0.19809408 0.20640714 0.19748581 0.19525547 0.20437956\n",
      " 0.19870235 0.21796431 0.21553122 0.20600162 0.21654501 0.21654501\n",
      " 0.2175588  0.19870235 0.19018654 0.17802109 0.175588   0.16301703\n",
      " 0.16707218 0.17112733 0.17639903 0.18349554 0.1717356  0.16423358\n",
      " 0.16991079 0.17619627 0.16788321 0.16909976 0.17396594 0.17741281\n",
      " 0.18268451 0.19221411 0.18896999 0.19018654 0.17396594 0.17092457\n",
      " 0.16788321 0.17477697 0.16443633 0.14557989 0.15287916 0.15369019\n",
      " 0.15044607 0.14152474 0.15145985 0.13341444 0.12530414 0.11719384\n",
      " 0.11780211 0.12489862 0.14132198 0.13098135 0.12935929 0.13240065\n",
      " 0.12895377 0.12530414 0.13381995 0.14557989 0.15166261 0.15085158\n",
      " 0.14679643 0.14355231 0.12733171 0.14963504 0.14801298 0.15815085\n",
      " 0.16504461 0.15896188 0.16626115 0.16737176]\n",
      "Day 1 output [[0.16929276]]\n",
      "\n",
      "Day 2 input [0.13990268 0.13017032 0.14152474 0.14111922 0.13138686 0.12915653\n",
      " 0.13098135 0.1269262  0.15166261 0.15004055 0.14193025 0.16017843\n",
      " 0.15693431 0.16504461 0.1770073  0.18146796 0.18815896 0.20924574\n",
      " 0.19424169 0.18106245 0.18207624 0.1960665  0.17680454 0.18207624\n",
      " 0.18004866 0.18207624 0.18876723 0.19383617 0.19099757 0.19505272\n",
      " 0.19809408 0.20640714 0.19748581 0.19525547 0.20437956 0.19870235\n",
      " 0.21796431 0.21553122 0.20600162 0.21654501 0.21654501 0.2175588\n",
      " 0.19870235 0.19018654 0.17802109 0.175588   0.16301703 0.16707218\n",
      " 0.17112733 0.17639903 0.18349554 0.1717356  0.16423358 0.16991079\n",
      " 0.17619627 0.16788321 0.16909976 0.17396594 0.17741281 0.18268451\n",
      " 0.19221411 0.18896999 0.19018654 0.17396594 0.17092457 0.16788321\n",
      " 0.17477697 0.16443633 0.14557989 0.15287916 0.15369019 0.15044607\n",
      " 0.14152474 0.15145985 0.13341444 0.12530414 0.11719384 0.11780211\n",
      " 0.12489862 0.14132198 0.13098135 0.12935929 0.13240065 0.12895377\n",
      " 0.12530414 0.13381995 0.14557989 0.15166261 0.15085158 0.14679643\n",
      " 0.14355231 0.12733171 0.14963504 0.14801298 0.15815085 0.16504461\n",
      " 0.15896188 0.16626115 0.16737176 0.16929276]\n",
      "Day 2 output [[0.1709615]]\n",
      "\n",
      "Day 3 input [0.13017032 0.14152474 0.14111922 0.13138686 0.12915653 0.13098135\n",
      " 0.1269262  0.15166261 0.15004055 0.14193025 0.16017843 0.15693431\n",
      " 0.16504461 0.1770073  0.18146796 0.18815896 0.20924574 0.19424169\n",
      " 0.18106245 0.18207624 0.1960665  0.17680454 0.18207624 0.18004866\n",
      " 0.18207624 0.18876723 0.19383617 0.19099757 0.19505272 0.19809408\n",
      " 0.20640714 0.19748581 0.19525547 0.20437956 0.19870235 0.21796431\n",
      " 0.21553122 0.20600162 0.21654501 0.21654501 0.2175588  0.19870235\n",
      " 0.19018654 0.17802109 0.175588   0.16301703 0.16707218 0.17112733\n",
      " 0.17639903 0.18349554 0.1717356  0.16423358 0.16991079 0.17619627\n",
      " 0.16788321 0.16909976 0.17396594 0.17741281 0.18268451 0.19221411\n",
      " 0.18896999 0.19018654 0.17396594 0.17092457 0.16788321 0.17477697\n",
      " 0.16443633 0.14557989 0.15287916 0.15369019 0.15044607 0.14152474\n",
      " 0.15145985 0.13341444 0.12530414 0.11719384 0.11780211 0.12489862\n",
      " 0.14132198 0.13098135 0.12935929 0.13240065 0.12895377 0.12530414\n",
      " 0.13381995 0.14557989 0.15166261 0.15085158 0.14679643 0.14355231\n",
      " 0.12733171 0.14963504 0.14801298 0.15815085 0.16504461 0.15896188\n",
      " 0.16626115 0.16737176 0.16929276 0.1709615 ]\n",
      "Day 3 output [[0.1724693]]\n",
      "\n",
      "Day 4 input [0.14152474 0.14111922 0.13138686 0.12915653 0.13098135 0.1269262\n",
      " 0.15166261 0.15004055 0.14193025 0.16017843 0.15693431 0.16504461\n",
      " 0.1770073  0.18146796 0.18815896 0.20924574 0.19424169 0.18106245\n",
      " 0.18207624 0.1960665  0.17680454 0.18207624 0.18004866 0.18207624\n",
      " 0.18876723 0.19383617 0.19099757 0.19505272 0.19809408 0.20640714\n",
      " 0.19748581 0.19525547 0.20437956 0.19870235 0.21796431 0.21553122\n",
      " 0.20600162 0.21654501 0.21654501 0.2175588  0.19870235 0.19018654\n",
      " 0.17802109 0.175588   0.16301703 0.16707218 0.17112733 0.17639903\n",
      " 0.18349554 0.1717356  0.16423358 0.16991079 0.17619627 0.16788321\n",
      " 0.16909976 0.17396594 0.17741281 0.18268451 0.19221411 0.18896999\n",
      " 0.19018654 0.17396594 0.17092457 0.16788321 0.17477697 0.16443633\n",
      " 0.14557989 0.15287916 0.15369019 0.15044607 0.14152474 0.15145985\n",
      " 0.13341444 0.12530414 0.11719384 0.11780211 0.12489862 0.14132198\n",
      " 0.13098135 0.12935929 0.13240065 0.12895377 0.12530414 0.13381995\n",
      " 0.14557989 0.15166261 0.15085158 0.14679643 0.14355231 0.12733171\n",
      " 0.14963504 0.14801298 0.15815085 0.16504461 0.15896188 0.16626115\n",
      " 0.16737176 0.16929276 0.1709615  0.1724693 ]\n",
      "Day 4 output [[0.1738689]]\n",
      "\n",
      "Day 5 input [0.14111922 0.13138686 0.12915653 0.13098135 0.1269262  0.15166261\n",
      " 0.15004055 0.14193025 0.16017843 0.15693431 0.16504461 0.1770073\n",
      " 0.18146796 0.18815896 0.20924574 0.19424169 0.18106245 0.18207624\n",
      " 0.1960665  0.17680454 0.18207624 0.18004866 0.18207624 0.18876723\n",
      " 0.19383617 0.19099757 0.19505272 0.19809408 0.20640714 0.19748581\n",
      " 0.19525547 0.20437956 0.19870235 0.21796431 0.21553122 0.20600162\n",
      " 0.21654501 0.21654501 0.2175588  0.19870235 0.19018654 0.17802109\n",
      " 0.175588   0.16301703 0.16707218 0.17112733 0.17639903 0.18349554\n",
      " 0.1717356  0.16423358 0.16991079 0.17619627 0.16788321 0.16909976\n",
      " 0.17396594 0.17741281 0.18268451 0.19221411 0.18896999 0.19018654\n",
      " 0.17396594 0.17092457 0.16788321 0.17477697 0.16443633 0.14557989\n",
      " 0.15287916 0.15369019 0.15044607 0.14152474 0.15145985 0.13341444\n",
      " 0.12530414 0.11719384 0.11780211 0.12489862 0.14132198 0.13098135\n",
      " 0.12935929 0.13240065 0.12895377 0.12530414 0.13381995 0.14557989\n",
      " 0.15166261 0.15085158 0.14679643 0.14355231 0.12733171 0.14963504\n",
      " 0.14801298 0.15815085 0.16504461 0.15896188 0.16626115 0.16737176\n",
      " 0.16929276 0.1709615  0.1724693  0.17386889]\n",
      "Day 5 output [[0.17519735]]\n",
      "\n",
      "Day 6 input [0.13138686 0.12915653 0.13098135 0.1269262  0.15166261 0.15004055\n",
      " 0.14193025 0.16017843 0.15693431 0.16504461 0.1770073  0.18146796\n",
      " 0.18815896 0.20924574 0.19424169 0.18106245 0.18207624 0.1960665\n",
      " 0.17680454 0.18207624 0.18004866 0.18207624 0.18876723 0.19383617\n",
      " 0.19099757 0.19505272 0.19809408 0.20640714 0.19748581 0.19525547\n",
      " 0.20437956 0.19870235 0.21796431 0.21553122 0.20600162 0.21654501\n",
      " 0.21654501 0.2175588  0.19870235 0.19018654 0.17802109 0.175588\n",
      " 0.16301703 0.16707218 0.17112733 0.17639903 0.18349554 0.1717356\n",
      " 0.16423358 0.16991079 0.17619627 0.16788321 0.16909976 0.17396594\n",
      " 0.17741281 0.18268451 0.19221411 0.18896999 0.19018654 0.17396594\n",
      " 0.17092457 0.16788321 0.17477697 0.16443633 0.14557989 0.15287916\n",
      " 0.15369019 0.15044607 0.14152474 0.15145985 0.13341444 0.12530414\n",
      " 0.11719384 0.11780211 0.12489862 0.14132198 0.13098135 0.12935929\n",
      " 0.13240065 0.12895377 0.12530414 0.13381995 0.14557989 0.15166261\n",
      " 0.15085158 0.14679643 0.14355231 0.12733171 0.14963504 0.14801298\n",
      " 0.15815085 0.16504461 0.15896188 0.16626115 0.16737176 0.16929276\n",
      " 0.1709615  0.1724693  0.17386889 0.17519735]\n",
      "Day 6 output [[0.17648181]]\n",
      "\n",
      "Day 7 input [0.12915653 0.13098135 0.1269262  0.15166261 0.15004055 0.14193025\n",
      " 0.16017843 0.15693431 0.16504461 0.1770073  0.18146796 0.18815896\n",
      " 0.20924574 0.19424169 0.18106245 0.18207624 0.1960665  0.17680454\n",
      " 0.18207624 0.18004866 0.18207624 0.18876723 0.19383617 0.19099757\n",
      " 0.19505272 0.19809408 0.20640714 0.19748581 0.19525547 0.20437956\n",
      " 0.19870235 0.21796431 0.21553122 0.20600162 0.21654501 0.21654501\n",
      " 0.2175588  0.19870235 0.19018654 0.17802109 0.175588   0.16301703\n",
      " 0.16707218 0.17112733 0.17639903 0.18349554 0.1717356  0.16423358\n",
      " 0.16991079 0.17619627 0.16788321 0.16909976 0.17396594 0.17741281\n",
      " 0.18268451 0.19221411 0.18896999 0.19018654 0.17396594 0.17092457\n",
      " 0.16788321 0.17477697 0.16443633 0.14557989 0.15287916 0.15369019\n",
      " 0.15044607 0.14152474 0.15145985 0.13341444 0.12530414 0.11719384\n",
      " 0.11780211 0.12489862 0.14132198 0.13098135 0.12935929 0.13240065\n",
      " 0.12895377 0.12530414 0.13381995 0.14557989 0.15166261 0.15085158\n",
      " 0.14679643 0.14355231 0.12733171 0.14963504 0.14801298 0.15815085\n",
      " 0.16504461 0.15896188 0.16626115 0.16737176 0.16929276 0.1709615\n",
      " 0.1724693  0.17386889 0.17519735 0.17648181]\n",
      "Day 7 output [[0.17774117]]\n",
      "\n",
      "Day 8 input [0.13098135 0.1269262  0.15166261 0.15004055 0.14193025 0.16017843\n",
      " 0.15693431 0.16504461 0.1770073  0.18146796 0.18815896 0.20924574\n",
      " 0.19424169 0.18106245 0.18207624 0.1960665  0.17680454 0.18207624\n",
      " 0.18004866 0.18207624 0.18876723 0.19383617 0.19099757 0.19505272\n",
      " 0.19809408 0.20640714 0.19748581 0.19525547 0.20437956 0.19870235\n",
      " 0.21796431 0.21553122 0.20600162 0.21654501 0.21654501 0.2175588\n",
      " 0.19870235 0.19018654 0.17802109 0.175588   0.16301703 0.16707218\n",
      " 0.17112733 0.17639903 0.18349554 0.1717356  0.16423358 0.16991079\n",
      " 0.17619627 0.16788321 0.16909976 0.17396594 0.17741281 0.18268451\n",
      " 0.19221411 0.18896999 0.19018654 0.17396594 0.17092457 0.16788321\n",
      " 0.17477697 0.16443633 0.14557989 0.15287916 0.15369019 0.15044607\n",
      " 0.14152474 0.15145985 0.13341444 0.12530414 0.11719384 0.11780211\n",
      " 0.12489862 0.14132198 0.13098135 0.12935929 0.13240065 0.12895377\n",
      " 0.12530414 0.13381995 0.14557989 0.15166261 0.15085158 0.14679643\n",
      " 0.14355231 0.12733171 0.14963504 0.14801298 0.15815085 0.16504461\n",
      " 0.15896188 0.16626115 0.16737176 0.16929276 0.1709615  0.1724693\n",
      " 0.17386889 0.17519735 0.17648181 0.17774117]\n",
      "Day 8 output [[0.1789868]]\n",
      "\n",
      "Day 9 input [0.1269262  0.15166261 0.15004055 0.14193025 0.16017843 0.15693431\n",
      " 0.16504461 0.1770073  0.18146796 0.18815896 0.20924574 0.19424169\n",
      " 0.18106245 0.18207624 0.1960665  0.17680454 0.18207624 0.18004866\n",
      " 0.18207624 0.18876723 0.19383617 0.19099757 0.19505272 0.19809408\n",
      " 0.20640714 0.19748581 0.19525547 0.20437956 0.19870235 0.21796431\n",
      " 0.21553122 0.20600162 0.21654501 0.21654501 0.2175588  0.19870235\n",
      " 0.19018654 0.17802109 0.175588   0.16301703 0.16707218 0.17112733\n",
      " 0.17639903 0.18349554 0.1717356  0.16423358 0.16991079 0.17619627\n",
      " 0.16788321 0.16909976 0.17396594 0.17741281 0.18268451 0.19221411\n",
      " 0.18896999 0.19018654 0.17396594 0.17092457 0.16788321 0.17477697\n",
      " 0.16443633 0.14557989 0.15287916 0.15369019 0.15044607 0.14152474\n",
      " 0.15145985 0.13341444 0.12530414 0.11719384 0.11780211 0.12489862\n",
      " 0.14132198 0.13098135 0.12935929 0.13240065 0.12895377 0.12530414\n",
      " 0.13381995 0.14557989 0.15166261 0.15085158 0.14679643 0.14355231\n",
      " 0.12733171 0.14963504 0.14801298 0.15815085 0.16504461 0.15896188\n",
      " 0.16626115 0.16737176 0.16929276 0.1709615  0.1724693  0.17386889\n",
      " 0.17519735 0.17648181 0.17774117 0.1789868 ]\n",
      "Day 9 output [[0.18022414]]\n",
      "\n",
      "Day 10 input [0.15166261 0.15004055 0.14193025 0.16017843 0.15693431 0.16504461\n",
      " 0.1770073  0.18146796 0.18815896 0.20924574 0.19424169 0.18106245\n",
      " 0.18207624 0.1960665  0.17680454 0.18207624 0.18004866 0.18207624\n",
      " 0.18876723 0.19383617 0.19099757 0.19505272 0.19809408 0.20640714\n",
      " 0.19748581 0.19525547 0.20437956 0.19870235 0.21796431 0.21553122\n",
      " 0.20600162 0.21654501 0.21654501 0.2175588  0.19870235 0.19018654\n",
      " 0.17802109 0.175588   0.16301703 0.16707218 0.17112733 0.17639903\n",
      " 0.18349554 0.1717356  0.16423358 0.16991079 0.17619627 0.16788321\n",
      " 0.16909976 0.17396594 0.17741281 0.18268451 0.19221411 0.18896999\n",
      " 0.19018654 0.17396594 0.17092457 0.16788321 0.17477697 0.16443633\n",
      " 0.14557989 0.15287916 0.15369019 0.15044607 0.14152474 0.15145985\n",
      " 0.13341444 0.12530414 0.11719384 0.11780211 0.12489862 0.14132198\n",
      " 0.13098135 0.12935929 0.13240065 0.12895377 0.12530414 0.13381995\n",
      " 0.14557989 0.15166261 0.15085158 0.14679643 0.14355231 0.12733171\n",
      " 0.14963504 0.14801298 0.15815085 0.16504461 0.15896188 0.16626115\n",
      " 0.16737176 0.16929276 0.1709615  0.1724693  0.17386889 0.17519735\n",
      " 0.17648181 0.17774117 0.1789868  0.18022414]\n",
      "Day 10 output [[0.18145464]]\n",
      "\n",
      "Day 11 input [0.15004055 0.14193025 0.16017843 0.15693431 0.16504461 0.1770073\n",
      " 0.18146796 0.18815896 0.20924574 0.19424169 0.18106245 0.18207624\n",
      " 0.1960665  0.17680454 0.18207624 0.18004866 0.18207624 0.18876723\n",
      " 0.19383617 0.19099757 0.19505272 0.19809408 0.20640714 0.19748581\n",
      " 0.19525547 0.20437956 0.19870235 0.21796431 0.21553122 0.20600162\n",
      " 0.21654501 0.21654501 0.2175588  0.19870235 0.19018654 0.17802109\n",
      " 0.175588   0.16301703 0.16707218 0.17112733 0.17639903 0.18349554\n",
      " 0.1717356  0.16423358 0.16991079 0.17619627 0.16788321 0.16909976\n",
      " 0.17396594 0.17741281 0.18268451 0.19221411 0.18896999 0.19018654\n",
      " 0.17396594 0.17092457 0.16788321 0.17477697 0.16443633 0.14557989\n",
      " 0.15287916 0.15369019 0.15044607 0.14152474 0.15145985 0.13341444\n",
      " 0.12530414 0.11719384 0.11780211 0.12489862 0.14132198 0.13098135\n",
      " 0.12935929 0.13240065 0.12895377 0.12530414 0.13381995 0.14557989\n",
      " 0.15166261 0.15085158 0.14679643 0.14355231 0.12733171 0.14963504\n",
      " 0.14801298 0.15815085 0.16504461 0.15896188 0.16626115 0.16737176\n",
      " 0.16929276 0.1709615  0.1724693  0.17386889 0.17519735 0.17648181\n",
      " 0.17774117 0.1789868  0.18022414 0.18145464]\n",
      "Day 11 output [[0.18267702]]\n",
      "\n",
      "Day 12 input [0.14193025 0.16017843 0.15693431 0.16504461 0.1770073  0.18146796\n",
      " 0.18815896 0.20924574 0.19424169 0.18106245 0.18207624 0.1960665\n",
      " 0.17680454 0.18207624 0.18004866 0.18207624 0.18876723 0.19383617\n",
      " 0.19099757 0.19505272 0.19809408 0.20640714 0.19748581 0.19525547\n",
      " 0.20437956 0.19870235 0.21796431 0.21553122 0.20600162 0.21654501\n",
      " 0.21654501 0.2175588  0.19870235 0.19018654 0.17802109 0.175588\n",
      " 0.16301703 0.16707218 0.17112733 0.17639903 0.18349554 0.1717356\n",
      " 0.16423358 0.16991079 0.17619627 0.16788321 0.16909976 0.17396594\n",
      " 0.17741281 0.18268451 0.19221411 0.18896999 0.19018654 0.17396594\n",
      " 0.17092457 0.16788321 0.17477697 0.16443633 0.14557989 0.15287916\n",
      " 0.15369019 0.15044607 0.14152474 0.15145985 0.13341444 0.12530414\n",
      " 0.11719384 0.11780211 0.12489862 0.14132198 0.13098135 0.12935929\n",
      " 0.13240065 0.12895377 0.12530414 0.13381995 0.14557989 0.15166261\n",
      " 0.15085158 0.14679643 0.14355231 0.12733171 0.14963504 0.14801298\n",
      " 0.15815085 0.16504461 0.15896188 0.16626115 0.16737176 0.16929276\n",
      " 0.1709615  0.1724693  0.17386889 0.17519735 0.17648181 0.17774117\n",
      " 0.1789868  0.18022414 0.18145464 0.18267702]\n",
      "Day 12 output [[0.18388851]]\n",
      "\n",
      "Day 13 input [0.16017843 0.15693431 0.16504461 0.1770073  0.18146796 0.18815896\n",
      " 0.20924574 0.19424169 0.18106245 0.18207624 0.1960665  0.17680454\n",
      " 0.18207624 0.18004866 0.18207624 0.18876723 0.19383617 0.19099757\n",
      " 0.19505272 0.19809408 0.20640714 0.19748581 0.19525547 0.20437956\n",
      " 0.19870235 0.21796431 0.21553122 0.20600162 0.21654501 0.21654501\n",
      " 0.2175588  0.19870235 0.19018654 0.17802109 0.175588   0.16301703\n",
      " 0.16707218 0.17112733 0.17639903 0.18349554 0.1717356  0.16423358\n",
      " 0.16991079 0.17619627 0.16788321 0.16909976 0.17396594 0.17741281\n",
      " 0.18268451 0.19221411 0.18896999 0.19018654 0.17396594 0.17092457\n",
      " 0.16788321 0.17477697 0.16443633 0.14557989 0.15287916 0.15369019\n",
      " 0.15044607 0.14152474 0.15145985 0.13341444 0.12530414 0.11719384\n",
      " 0.11780211 0.12489862 0.14132198 0.13098135 0.12935929 0.13240065\n",
      " 0.12895377 0.12530414 0.13381995 0.14557989 0.15166261 0.15085158\n",
      " 0.14679643 0.14355231 0.12733171 0.14963504 0.14801298 0.15815085\n",
      " 0.16504461 0.15896188 0.16626115 0.16737176 0.16929276 0.1709615\n",
      " 0.1724693  0.17386889 0.17519735 0.17648181 0.17774117 0.1789868\n",
      " 0.18022414 0.18145464 0.18267702 0.18388851]\n",
      "Day 13 output [[0.1850862]]\n",
      "\n",
      "Day 14 input [0.15693431 0.16504461 0.1770073  0.18146796 0.18815896 0.20924574\n",
      " 0.19424169 0.18106245 0.18207624 0.1960665  0.17680454 0.18207624\n",
      " 0.18004866 0.18207624 0.18876723 0.19383617 0.19099757 0.19505272\n",
      " 0.19809408 0.20640714 0.19748581 0.19525547 0.20437956 0.19870235\n",
      " 0.21796431 0.21553122 0.20600162 0.21654501 0.21654501 0.2175588\n",
      " 0.19870235 0.19018654 0.17802109 0.175588   0.16301703 0.16707218\n",
      " 0.17112733 0.17639903 0.18349554 0.1717356  0.16423358 0.16991079\n",
      " 0.17619627 0.16788321 0.16909976 0.17396594 0.17741281 0.18268451\n",
      " 0.19221411 0.18896999 0.19018654 0.17396594 0.17092457 0.16788321\n",
      " 0.17477697 0.16443633 0.14557989 0.15287916 0.15369019 0.15044607\n",
      " 0.14152474 0.15145985 0.13341444 0.12530414 0.11719384 0.11780211\n",
      " 0.12489862 0.14132198 0.13098135 0.12935929 0.13240065 0.12895377\n",
      " 0.12530414 0.13381995 0.14557989 0.15166261 0.15085158 0.14679643\n",
      " 0.14355231 0.12733171 0.14963504 0.14801298 0.15815085 0.16504461\n",
      " 0.15896188 0.16626115 0.16737176 0.16929276 0.1709615  0.1724693\n",
      " 0.17386889 0.17519735 0.17648181 0.17774117 0.1789868  0.18022414\n",
      " 0.18145464 0.18267702 0.18388851 0.18508621]\n",
      "Day 14 output [[0.18626711]]\n",
      "\n"
     ]
    }
   ],
   "source": [
    "lst_output=[]\n",
    "n_steps=100\n",
    "\n",
    "future_Days= 15\n",
    "\n",
    "i=0\n",
    "\n",
    "while(i<future_Days):\n",
    "    \n",
    "    if(len(temp_ip)>100):\n",
    "        x_ip = np.array(temp_ip[1:])\n",
    "        print(\"Day {} input {}\".format(i,x_ip))\n",
    "        \n",
    "        x_ip = x_ip.reshape(1,-1)\n",
    "        x_ip = x_ip.reshape((1, n_steps, 1))\n",
    "        yhat = model.predict(x_ip, verbose=0)\n",
    "        print(\"Day {} output {}\\n\".format(i,yhat))\n",
    "        \n",
    "        temp_ip.extend(yhat[0].tolist())\n",
    "        temp_ip = temp_ip[1:]\n",
    "        lst_output.extend(yhat.tolist())\n",
    "        i=i+1\n",
    "    else:\n",
    "        x_ip = x_ip.reshape((1, n_steps,1))\n",
    "        yhat = model.predict(x_ip, verbose=0)\n",
    "        print(yhat[0])\n",
    "        temp_ip.extend(yhat[0].tolist())\n",
    "        print(len(temp_ip))\n",
    "        lst_output.extend(yhat.tolist())\n",
    "        i=i+1"
   ]
  },
  {
   "cell_type": "code",
   "execution_count": 37,
   "id": "4fb72fd8",
   "metadata": {},
   "outputs": [],
   "source": [
    "day_new = np.arange(1,101)\n",
    "day_pred = np.arange(101,116)"
   ]
  },
  {
   "cell_type": "code",
   "execution_count": 38,
   "id": "7eb05fb3",
   "metadata": {},
   "outputs": [],
   "source": [
    "fd = df.tolist()\n",
    "fd.extend(lst_output)"
   ]
  },
  {
   "cell_type": "code",
   "execution_count": 39,
   "id": "6bbbaa94",
   "metadata": {},
   "outputs": [
    {
     "data": {
      "text/plain": [
       "2035"
      ]
     },
     "execution_count": 39,
     "metadata": {},
     "output_type": "execute_result"
    }
   ],
   "source": [
    "len(df)"
   ]
  },
  {
   "cell_type": "code",
   "execution_count": 40,
   "id": "a7647497",
   "metadata": {},
   "outputs": [
    {
     "data": {
      "text/plain": [
       "1935"
      ]
     },
     "execution_count": 40,
     "metadata": {},
     "output_type": "execute_result"
    }
   ],
   "source": [
    "2035-100"
   ]
  },
  {
   "cell_type": "code",
   "execution_count": 41,
   "id": "81ff0805",
   "metadata": {},
   "outputs": [
    {
     "data": {
      "text/plain": [
       "[<matplotlib.lines.Line2D at 0x1751cc5fb80>]"
      ]
     },
     "execution_count": 41,
     "metadata": {},
     "output_type": "execute_result"
    },
    {
     "data": {
      "image/png": "[encoded data removed]",
      "text/plain": [
       "<Figure size 720x720 with 1 Axes>"
      ]
     },
     "metadata": {
      "needs_background": "light"
     },
     "output_type": "display_data"
    }
   ],
   "source": [
    "plt.subplots(figsize = (10,10))\n",
    "plt.plot(day_new, scaler.inverse_transform(df[1935:]))\n",
    "plt.plot(day_pred, scaler.inverse_transform(lst_output))"
   ]
  }
 ],
 "metadata": {
  "kernelspec": {
   "display_name": "Python 3 (ipykernel)",
   "language": "python",
   "name": "python3"
  },
  "language_info": {
   "codemirror_mode": {
    "name": "ipython",
    "version": 3
   },
   "file_extension": ".py",
   "mimetype": "text/x-python",
   "name": "python",
   "nbconvert_exporter": "python",
   "pygments_lexer": "ipython3",
   "version": "3.9.7"
  }
 },
 "nbformat": 4,
 "nbformat_minor": 5
}
